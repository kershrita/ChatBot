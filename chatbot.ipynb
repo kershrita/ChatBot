{
 "cells": [
  {
   "cell_type": "code",
   "execution_count": 1,
   "id": "19a242de",
   "metadata": {},
   "outputs": [],
   "source": [
    "from chatterbot import ChatBot\n",
    "from chatterbot.trainers import ListTrainer\n",
    "from chatterbot.trainers import ChatterBotCorpusTrainer"
   ]
  },
  {
   "cell_type": "code",
   "execution_count": 2,
   "id": "bf15e23c",
   "metadata": {},
   "outputs": [
    {
     "name": "stdout",
     "output_type": "stream",
     "text": [
      "List Trainer: [######              ] 29%"
     ]
    },
    {
     "name": "stderr",
     "output_type": "stream",
     "text": [
      "[nltk_data] Downloading package averaged_perceptron_tagger to\n",
      "[nltk_data]     C:\\Users\\Kershrita\\AppData\\Roaming\\nltk_data...\n",
      "[nltk_data]   Package averaged_perceptron_tagger is already up-to-\n",
      "[nltk_data]       date!\n",
      "[nltk_data] Downloading package punkt to\n",
      "[nltk_data]     C:\\Users\\Kershrita\\AppData\\Roaming\\nltk_data...\n",
      "[nltk_data]   Package punkt is already up-to-date!\n",
      "[nltk_data] Downloading package stopwords to\n",
      "[nltk_data]     C:\\Users\\Kershrita\\AppData\\Roaming\\nltk_data...\n",
      "[nltk_data]   Package stopwords is already up-to-date!\n"
     ]
    },
    {
     "name": "stdout",
     "output_type": "stream",
     "text": [
      "List Trainer: [####################] 100%\n",
      "Hi\n",
      "That is good to hear\n"
     ]
    }
   ],
   "source": [
    "bot_test = ChatBot(\"Ahmed\")\n",
    "\n",
    "conversation = [\n",
    "    \"Hello\",\n",
    "    \"Hi there!\",\n",
    "    \"How are you doing?\",\n",
    "    \"I'm doing great.\",\n",
    "    \"That is good to hear\",\n",
    "    \"Thank you.\",\n",
    "    \"You're welcome.\"\n",
    "]\n",
    "\n",
    "trainer = ListTrainer(bot_test)\n",
    "\n",
    "trainer.train(conversation)\n",
    "\n",
    "response = bot_test.get_response(input())\n",
    "print(response)"
   ]
  },
  {
   "cell_type": "code",
   "execution_count": 3,
   "id": "b1fc661a",
   "metadata": {},
   "outputs": [
    {
     "name": "stderr",
     "output_type": "stream",
     "text": [
      "[nltk_data] Downloading package averaged_perceptron_tagger to\n",
      "[nltk_data]     C:\\Users\\Kershrita\\AppData\\Roaming\\nltk_data...\n",
      "[nltk_data]   Package averaged_perceptron_tagger is already up-to-\n",
      "[nltk_data]       date!\n",
      "[nltk_data] Downloading package punkt to\n",
      "[nltk_data]     C:\\Users\\Kershrita\\AppData\\Roaming\\nltk_data...\n",
      "[nltk_data]   Package punkt is already up-to-date!\n",
      "[nltk_data] Downloading package stopwords to\n",
      "[nltk_data]     C:\\Users\\Kershrita\\AppData\\Roaming\\nltk_data...\n",
      "[nltk_data]   Package stopwords is already up-to-date!\n"
     ]
    }
   ],
   "source": [
    "bot = ChatBot(\n",
    "    name='Adam', # name of the bot\n",
    "    read_only=False, # if you want to make the bot have the ability to learn after training make this parameter False\n",
    "    storage_adapter='chatterbot.storage.SQLStorageAdapter', # connect to SQLite database\n",
    "    database_uri='sqlite:///database.sqlite3', # link of database\n",
    "    logic_adapters=[ # denotes the list of adapters used to train the chatbot\n",
    "        'chatterbot.logic.MathematicalEvaluation',\n",
    "        'chatterbot.logic.BestMatch',\n",
    "        #'chatterbot.logic.TimeLogicAdapter',\n",
    "        #'chatterbot.logic.SpecificResponseAdapter'\n",
    "    ]\n",
    ")"
   ]
  },
  {
   "cell_type": "code",
   "execution_count": 5,
   "id": "c3ba25d1",
   "metadata": {},
   "outputs": [
    {
     "name": "stdout",
     "output_type": "stream",
     "text": [
      "Training ai.yml: [####################] 100%\n",
      "Training botprofile.yml: [####################] 100%\n",
      "Training computers.yml: [####################] 100%\n",
      "Training conversations.yml: [####################] 100%\n",
      "Training emotion.yml: [####################] 100%\n",
      "Training food.yml: [####################] 100%\n",
      "Training gossip.yml: [####################] 100%\n",
      "Training greetings.yml: [####################] 100%\n",
      "Training health.yml: [####################] 100%\n",
      "Training history.yml: [####################] 100%\n",
      "Training humor.yml: [####################] 100%\n",
      "Training literature.yml: [####################] 100%\n",
      "Training money.yml: [####################] 100%\n",
      "Training movies.yml: [####################] 100%\n",
      "Training politics.yml: [####################] 100%\n",
      "Training psychology.yml: [####################] 100%\n",
      "Training science.yml: [####################] 100%\n",
      "Training sports.yml: [####################] 100%\n",
      "Training trivia.yml: [####################] 100%\n"
     ]
    }
   ],
   "source": [
    "corpus = ChatterBotCorpusTrainer(bot)\n",
    "corpus.train(\n",
    "    'chatterbot.corpus.english' # for all corpus data\n",
    "    #'chatterbot.corpus.english.ai'\n",
    "    #'chatterbot.corpus.english.botprofile'\n",
    "    #'chatterbot.corpus.english.computers'\n",
    "    #'chatterbot.corpus.english.conversations'\n",
    "    #'chatterbot.corpus.english.emotion'\n",
    "    #'chatterbot.corpus.english.food'\n",
    "    #'chatterbot.corpus.english.gossip'\n",
    "    #'chatterbot.corpus.english.greetings'\n",
    "    #'chatterbot.corpus.english.health'\n",
    "    #'chatterbot.corpus.english.history'\n",
    "    #'chatterbot.corpus.english.humor'\n",
    "    #'chatterbot.corpus.english.literature'\n",
    "    #'chatterbot.corpus.english.money'\n",
    "    #'chatterbot.corpus.english.movies'\n",
    "    #'chatterbot.corpus.english.politics'\n",
    "    #'chatterbot.corpus.english.psychology'\n",
    "    #'chatterbot.corpus.english.science'\n",
    "    #'chatterbot.corpus.english.sports'\n",
    "    #'chatterbot.corpus.english.trivia'\n",
    ")"
   ]
  },
  {
   "cell_type": "code",
   "execution_count": 6,
   "id": "2a5806ca",
   "metadata": {},
   "outputs": [
    {
     "name": "stdout",
     "output_type": "stream",
     "text": [
      "What is the computer?\n",
      "bot: So you think i am a machine. what characteristics made you think so?\n",
      "RAM, CPU, GPU and storage\n",
      "bot: I can't read.\n",
      "why\n",
      "bot: Is there a reason that I should?\n",
      "no\n",
      "bot: Should I be? Did something happen?\n",
      "no\n",
      "bot: Should I be? Did something happen?\n",
      "noo\n",
      "bot: Or something\n",
      "nooo\n",
      "bot: you are crazy\n",
      "thanks\n",
      "bot: Hello\n",
      "bye\n",
      "bot: Mahatma Gandhi, as you know, walked barefoot his whole life, which created an impressive set of calluses on his feet. He also ate very little, which made him frail, and with his odd diet, he suffered from very bad breath. This made him ... what? (this is so bad it's good...) a super-callused fragile mystic hexed by halitosis.\n",
      "exit\n"
     ]
    }
   ],
   "source": [
    "while True:\n",
    "    text = input();\n",
    "    if text.lower() == 'exit':\n",
    "        break\n",
    "    else:\n",
    "        response = bot.get_response(text)\n",
    "        print(\"bot: \" + str(response))"
   ]
  },
  {
   "cell_type": "markdown",
   "id": "5a152e02",
   "metadata": {},
   "source": [
    "### Documentation\n",
    "https://chatterbot.readthedocs.io/en/stable/index.html"
   ]
  },
  {
   "cell_type": "code",
   "execution_count": null,
   "id": "cdf06a17",
   "metadata": {},
   "outputs": [],
   "source": []
  }
 ],
 "metadata": {
  "kernelspec": {
   "display_name": "Python 3 (ipykernel)",
   "language": "python",
   "name": "python3"
  },
  "language_info": {
   "codemirror_mode": {
    "name": "ipython",
    "version": 3
   },
   "file_extension": ".py",
   "mimetype": "text/x-python",
   "name": "python",
   "nbconvert_exporter": "python",
   "pygments_lexer": "ipython3",
   "version": "3.9.12"
  }
 },
 "nbformat": 4,
 "nbformat_minor": 5
}
